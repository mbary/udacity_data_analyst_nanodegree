{
 "cells": [
  {
   "cell_type": "code",
   "execution_count": 1,
   "metadata": {},
   "outputs": [],
   "source": [
    "import os\n",
    "import numpy as np\n",
    "import pandas as pd\n",
    "\n",
    "\n"
   ]
  },
  {
   "cell_type": "code",
   "execution_count": 6,
   "metadata": {},
   "outputs": [
    {
     "data": {
      "text/plain": [
       "['allias.save',\n",
       " '.octaverc',\n",
       " '.config',\n",
       " 'Music',\n",
       " '.docker',\n",
       " 'lmms',\n",
       " '.virtualenvs',\n",
       " '.DS_Store',\n",
       " 'nltk_data',\n",
       " '.CFUserTextEncoding',\n",
       " 'edb_languagepack.app.zip',\n",
       " '.bash_profile~',\n",
       " '.vaex',\n",
       " '.local',\n",
       " '.psql_history',\n",
       " '.dask',\n",
       " 'Pictures',\n",
       " '.pylint.d',\n",
       " '.mitmproxy',\n",
       " '.ipython',\n",
       " 'Desktop',\n",
       " 'Library',\n",
       " '.matplotlib',\n",
       " 'gensim-data',\n",
       " '.oracle_jre_usage',\n",
       " 'seaborn-data',\n",
       " '.bash_profile.pysave',\n",
       " '.octave_hist',\n",
       " '.android',\n",
       " '.pgadmin',\n",
       " 'scikit_learn_data',\n",
       " '.cups',\n",
       " '.bash_sessions',\n",
       " 'coco',\n",
       " 'Google Drive',\n",
       " 'Public',\n",
       " '.bash_profile-anaconda3.bak',\n",
       " '.idlerc',\n",
       " '.lmmsrc.xml',\n",
       " '.ssh',\n",
       " 'Movies',\n",
       " 'Applications',\n",
       " '.freemind',\n",
       " '.anaconda_backup',\n",
       " '.Trash',\n",
       " '.ipynb_checkpoints',\n",
       " '.jupyter',\n",
       " '.keras',\n",
       " '.npm',\n",
       " 'Documents',\n",
       " '.pgpass',\n",
       " 'causalml',\n",
       " '.vscode',\n",
       " '.bash_profile',\n",
       " 'Downloads',\n",
       " '.python_history',\n",
       " '.cache',\n",
       " '.gitconfig',\n",
       " '.bash_history',\n",
       " '.viminfo',\n",
       " '.conda',\n",
       " 'matlab_crash_dump.10992-1']"
      ]
     },
     "execution_count": 6,
     "metadata": {},
     "output_type": "execute_result"
    }
   ],
   "source": [
    "os.listdir(\"../../../../../\")"
   ]
  },
  {
   "cell_type": "code",
   "execution_count": 7,
   "metadata": {},
   "outputs": [],
   "source": [
    "av_sales_df = pd.read_csv(\"../../../../../Downloads/Moving Average Example - Data.csv\")"
   ]
  },
  {
   "cell_type": "code",
   "execution_count": 8,
   "metadata": {},
   "outputs": [
    {
     "data": {
      "text/html": [
       "<div>\n",
       "<style scoped>\n",
       "    .dataframe tbody tr th:only-of-type {\n",
       "        vertical-align: middle;\n",
       "    }\n",
       "\n",
       "    .dataframe tbody tr th {\n",
       "        vertical-align: top;\n",
       "    }\n",
       "\n",
       "    .dataframe thead th {\n",
       "        text-align: right;\n",
       "    }\n",
       "</style>\n",
       "<table border=\"1\" class=\"dataframe\">\n",
       "  <thead>\n",
       "    <tr style=\"text-align: right;\">\n",
       "      <th></th>\n",
       "      <th>Date</th>\n",
       "      <th>Sales</th>\n",
       "    </tr>\n",
       "  </thead>\n",
       "  <tbody>\n",
       "    <tr>\n",
       "      <th>0</th>\n",
       "      <td>1/1/2009</td>\n",
       "      <td>7,855</td>\n",
       "    </tr>\n",
       "    <tr>\n",
       "      <th>1</th>\n",
       "      <td>1/2/2009</td>\n",
       "      <td>12,329</td>\n",
       "    </tr>\n",
       "    <tr>\n",
       "      <th>2</th>\n",
       "      <td>1/3/2009</td>\n",
       "      <td>11,617</td>\n",
       "    </tr>\n",
       "    <tr>\n",
       "      <th>3</th>\n",
       "      <td>1/4/2009</td>\n",
       "      <td>7,684</td>\n",
       "    </tr>\n",
       "    <tr>\n",
       "      <th>4</th>\n",
       "      <td>1/5/2009</td>\n",
       "      <td>8,448</td>\n",
       "    </tr>\n",
       "  </tbody>\n",
       "</table>\n",
       "</div>"
      ],
      "text/plain": [
       "       Date   Sales\n",
       "0  1/1/2009   7,855\n",
       "1  1/2/2009  12,329\n",
       "2  1/3/2009  11,617\n",
       "3  1/4/2009   7,684\n",
       "4  1/5/2009   8,448"
      ]
     },
     "execution_count": 8,
     "metadata": {},
     "output_type": "execute_result"
    }
   ],
   "source": [
    "av_sales_df.head()"
   ]
  },
  {
   "cell_type": "code",
   "execution_count": 12,
   "metadata": {},
   "outputs": [
    {
     "data": {
      "text/plain": [
       "Date     object\n",
       "Sales    object\n",
       "dtype: object"
      ]
     },
     "execution_count": 12,
     "metadata": {},
     "output_type": "execute_result"
    }
   ],
   "source": [
    "av_sales_df.dtypes"
   ]
  },
  {
   "cell_type": "code",
   "execution_count": 23,
   "metadata": {},
   "outputs": [],
   "source": [
    "av_sales_df.Sales = [float(str(i).replace(\",\",\"\")) for i in av_sales_df.Sales]"
   ]
  },
  {
   "cell_type": "code",
   "execution_count": 24,
   "metadata": {},
   "outputs": [
    {
     "data": {
      "text/plain": [
       "Date      object\n",
       "Sales    float64\n",
       "dtype: object"
      ]
     },
     "execution_count": 24,
     "metadata": {},
     "output_type": "execute_result"
    }
   ],
   "source": [
    "av_sales_df.dtypes"
   ]
  },
  {
   "cell_type": "code",
   "execution_count": 25,
   "metadata": {},
   "outputs": [],
   "source": [
    "av_sales_df[\"7_day_mean\"] = av_sales_df.Sales.rolling(window=7).mean()"
   ]
  },
  {
   "cell_type": "code",
   "execution_count": 30,
   "metadata": {},
   "outputs": [],
   "source": [
    "av_sales_df[\"14_day_mean\"] = av_sales_df.Sales.rolling(window=14).mean()"
   ]
  },
  {
   "cell_type": "code",
   "execution_count": 40,
   "metadata": {},
   "outputs": [],
   "source": [
    "av_sales_df[\"Date\"] = pd.to_datetime(av_sales_df[\"Date\"])"
   ]
  },
  {
   "cell_type": "code",
   "execution_count": 41,
   "metadata": {},
   "outputs": [
    {
     "data": {
      "text/html": [
       "<div>\n",
       "<style scoped>\n",
       "    .dataframe tbody tr th:only-of-type {\n",
       "        vertical-align: middle;\n",
       "    }\n",
       "\n",
       "    .dataframe tbody tr th {\n",
       "        vertical-align: top;\n",
       "    }\n",
       "\n",
       "    .dataframe thead th {\n",
       "        text-align: right;\n",
       "    }\n",
       "</style>\n",
       "<table border=\"1\" class=\"dataframe\">\n",
       "  <thead>\n",
       "    <tr style=\"text-align: right;\">\n",
       "      <th></th>\n",
       "      <th>Date</th>\n",
       "      <th>Sales</th>\n",
       "      <th>7_day_mean</th>\n",
       "      <th>14_day_mean</th>\n",
       "    </tr>\n",
       "  </thead>\n",
       "  <tbody>\n",
       "    <tr>\n",
       "      <th>77</th>\n",
       "      <td>2009-03-19</td>\n",
       "      <td>8497.0</td>\n",
       "      <td>9938.428571</td>\n",
       "      <td>9981.071429</td>\n",
       "    </tr>\n",
       "  </tbody>\n",
       "</table>\n",
       "</div>"
      ],
      "text/plain": [
       "         Date   Sales   7_day_mean  14_day_mean\n",
       "77 2009-03-19  8497.0  9938.428571  9981.071429"
      ]
     },
     "execution_count": 41,
     "metadata": {},
     "output_type": "execute_result"
    }
   ],
   "source": [
    "av_sales_df[av_sales_df.Date == \"2009-03-19\"]"
   ]
  },
  {
   "cell_type": "code",
   "execution_count": null,
   "metadata": {},
   "outputs": [],
   "source": []
  }
 ],
 "metadata": {
  "kernelspec": {
   "display_name": "Python 3",
   "language": "python",
   "name": "python3"
  },
  "language_info": {
   "codemirror_mode": {
    "name": "ipython",
    "version": 3
   },
   "file_extension": ".py",
   "mimetype": "text/x-python",
   "name": "python",
   "nbconvert_exporter": "python",
   "pygments_lexer": "ipython3",
   "version": "3.6.7"
  }
 },
 "nbformat": 4,
 "nbformat_minor": 2
}
